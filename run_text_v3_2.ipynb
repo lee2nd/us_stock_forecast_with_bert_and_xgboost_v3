{
 "cells": [
  {
   "cell_type": "code",
   "execution_count": 1,
   "metadata": {},
   "outputs": [],
   "source": [
    "# import libraries\n",
    "import pickle\n",
    "import xgboost as xgb"
   ]
  },
  {
   "cell_type": "code",
   "execution_count": 2,
   "metadata": {},
   "outputs": [],
   "source": [
    "# 讀取資料\n",
    "with open('x_train_old.pickle', 'rb') as handle:\n",
    "    x_train = pickle.load(handle)\n",
    "with open('y_train_old.pickle', 'rb') as handle:\n",
    "    y_train = pickle.load(handle)\n",
    "with open('x_test_old.pickle', 'rb') as handle:\n",
    "    x_test = pickle.load(handle)\n",
    "with open('y_test_old.pickle', 'rb') as handle:\n",
    "    y_test = pickle.load(handle)            "
   ]
  },
  {
   "cell_type": "code",
   "execution_count": 3,
   "metadata": {},
   "outputs": [],
   "source": [
    "# Create the XGBoost model\n",
    "model = xgb.XGBClassifier(objective='multi:softprob',    # Set the objective function for multi-class classification\n",
    "                            n_estimators=1000,           # Set the number of boosting iterations\n",
    "                            max_depth=7,                 # Set the maximum depth of the decision trees\n",
    "                            learning_rate=0.1,           # Set the learning rate for the boosting algorithm\n",
    "                            random_state=42)             # Set the random state for reproducibility\n",
    "\n",
    "# Train the model\n",
    "model.fit(x_train, y_train)\n",
    "\n",
    "# save model\n",
    "pickle.dump(model, open(\"xgb_model.pkl\", \"wb\"))"
   ]
  }
 ],
 "metadata": {
  "kernelspec": {
   "display_name": "base",
   "language": "python",
   "name": "python3"
  },
  "language_info": {
   "codemirror_mode": {
    "name": "ipython",
    "version": 3
   },
   "file_extension": ".py",
   "mimetype": "text/x-python",
   "name": "python",
   "nbconvert_exporter": "python",
   "pygments_lexer": "ipython3",
   "version": "3.12.3"
  }
 },
 "nbformat": 4,
 "nbformat_minor": 2
}
